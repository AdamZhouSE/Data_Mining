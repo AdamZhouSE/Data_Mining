{
 "cells": [
  {
   "metadata": {},
   "cell_type": "markdown",
   "source": "# Stock Clustering",
   "id": "be54f023b83f0ef1"
  },
  {
   "metadata": {},
   "cell_type": "markdown",
   "source": "## Q1. SSE",
   "id": "7ebd83e7c9b12c85"
  },
  {
   "metadata": {
    "ExecuteTime": {
     "end_time": "2024-11-05T04:32:10.344354Z",
     "start_time": "2024-11-05T04:32:10.327135Z"
    }
   },
   "cell_type": "code",
   "source": [
    "from sklearn.cluster import KMeans\n",
    "import numpy as np\n",
    "\n",
    "with open('clustering_data.csv', 'r') as f:\n",
    "    data = f.readlines()\n",
    "    \n",
    "stock_name_list = []\n",
    "stock_change_list = []\n",
    "# skip the header line\n",
    "for line in data[1:]:\n",
    "    line = line.split(',')\n",
    "    stock_name_list.append(line[0])\n",
    "    stock_change_list.append([float(x) for x in line[1:]])\n",
    "\n",
    "stock_change = np.array(stock_change_list, dtype='float32')\n",
    "kmeans = KMeans(init='random').fit(stock_change)\n",
    "sse = kmeans.inertia_\n",
    "sse"
   ],
   "id": "5841878687bf7b18",
   "outputs": [
    {
     "data": {
      "text/plain": [
       "1819.4251708984375"
      ]
     },
     "execution_count": 31,
     "metadata": {},
     "output_type": "execute_result"
    }
   ],
   "execution_count": 31
  },
  {
   "metadata": {},
   "cell_type": "markdown",
   "source": [
    "## Q2. Decrease SSE\n",
    "select two parameters which can impact the SSE most"
   ],
   "id": "b0b55926b490d770"
  },
  {
   "metadata": {
    "ExecuteTime": {
     "end_time": "2024-11-05T04:32:10.351984Z",
     "start_time": "2024-11-05T04:32:10.346108Z"
    }
   },
   "cell_type": "code",
   "source": [
    "# TODO decrease the SSE\n",
    "kmeans = KMeans(init='k-means++', max_iter=300, random_state=42).fit(stock_change)\n",
    "sse = kmeans.inertia_\n",
    "sse"
   ],
   "id": "2c2fd21d92e7261d",
   "outputs": [
    {
     "data": {
      "text/plain": [
       "1583.722900390625"
      ]
     },
     "execution_count": 32,
     "metadata": {},
     "output_type": "execute_result"
    }
   ],
   "execution_count": 32
  },
  {
   "metadata": {},
   "cell_type": "markdown",
   "source": "## Q3. Labels",
   "id": "e504ff1f5ecd5241"
  },
  {
   "metadata": {
    "ExecuteTime": {
     "end_time": "2024-11-05T04:32:10.357325Z",
     "start_time": "2024-11-05T04:32:10.353504Z"
    }
   },
   "cell_type": "code",
   "source": [
    "# TODO label the stocks\n",
    "from collections import defaultdict\n",
    "\n",
    "labels = kmeans.labels_\n",
    "label_dict = defaultdict(list)\n",
    "for i in range(len(labels)):\n",
    "    label = int(labels[i])\n",
    "    label_dict[label].append(stock_name_list[i])\n",
    "label_dict"
   ],
   "id": "67e155f578d238c",
   "outputs": [
    {
     "data": {
      "text/plain": [
       "defaultdict(list,\n",
       "            {3: ['American Express',\n",
       "              'Boeing',\n",
       "              'Microsoft',\n",
       "              'IBM',\n",
       "              'Walt Disney',\n",
       "              'Intel',\n",
       "              'Wal-Mart',\n",
       "              'General Electric',\n",
       "              'United Technologies',\n",
       "              'Travelers',\n",
       "              'JPMorgan Chase',\n",
       "              '3M',\n",
       "              'Johnson & Johnson'],\n",
       "             2: ['Chevron', 'Pfizer', 'ExxonMobil'],\n",
       "             6: ['Cisco Systems'],\n",
       "             4: ['DuPont', 'Caterpillar', 'Alcoa'],\n",
       "             1: ['Kraft',\n",
       "              'Verizon',\n",
       "              'Procter & Gamble',\n",
       "              'AT&T',\n",
       "              'Merck',\n",
       "              'McDonalds',\n",
       "              'Coca-Cola'],\n",
       "             5: ['Bank of America'],\n",
       "             0: ['The Home Depot'],\n",
       "             7: ['Hewlett-Packard']})"
      ]
     },
     "execution_count": 33,
     "metadata": {},
     "output_type": "execute_result"
    }
   ],
   "execution_count": 33
  },
  {
   "metadata": {
    "ExecuteTime": {
     "end_time": "2024-11-05T04:32:10.359838Z",
     "start_time": "2024-11-05T04:32:10.358357Z"
    }
   },
   "cell_type": "code",
   "source": "",
   "id": "5c0129c1abd66b72",
   "outputs": [],
   "execution_count": 33
  }
 ],
 "metadata": {
  "kernelspec": {
   "display_name": "Python 3",
   "language": "python",
   "name": "python3"
  },
  "language_info": {
   "codemirror_mode": {
    "name": "ipython",
    "version": 2
   },
   "file_extension": ".py",
   "mimetype": "text/x-python",
   "name": "python",
   "nbconvert_exporter": "python",
   "pygments_lexer": "ipython2",
   "version": "2.7.6"
  }
 },
 "nbformat": 4,
 "nbformat_minor": 5
}
