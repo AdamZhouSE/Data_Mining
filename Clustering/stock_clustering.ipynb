{
 "cells": [
  {
   "metadata": {},
   "cell_type": "markdown",
   "source": "# Stock Clustering",
   "id": "be54f023b83f0ef1"
  },
  {
   "metadata": {},
   "cell_type": "markdown",
   "source": "## Q1. SSE",
   "id": "7ebd83e7c9b12c85"
  },
  {
   "metadata": {
    "ExecuteTime": {
     "end_time": "2024-11-07T10:06:12.253838Z",
     "start_time": "2024-11-07T10:06:12.244382Z"
    }
   },
   "cell_type": "code",
   "source": [
    "from sklearn.cluster import KMeans\n",
    "import numpy as np\n",
    "\n",
    "with open('clustering_data.csv', 'r') as f:\n",
    "    data = f.readlines()\n",
    "    \n",
    "stock_name_list = []\n",
    "stock_change_list = []\n",
    "# skip the header line\n",
    "for line in data[1:]:\n",
    "    line = line.split(',')\n",
    "    stock_name_list.append(line[0])\n",
    "    stock_change_list.append([float(x) for x in line[1:]])\n",
    "\n",
    "stock_change = np.array(stock_change_list, dtype='float32')\n",
    "kmeans = KMeans(init='random').fit(stock_change)\n",
    "sse = kmeans.inertia_\n",
    "sse"
   ],
   "id": "5841878687bf7b18",
   "outputs": [
    {
     "data": {
      "text/plain": [
       "1651.9931640625"
      ]
     },
     "execution_count": 261,
     "metadata": {},
     "output_type": "execute_result"
    }
   ],
   "execution_count": 261
  },
  {
   "metadata": {},
   "cell_type": "markdown",
   "source": "Result: 1651.99",
   "id": "b8f138612a8d87df"
  },
  {
   "metadata": {},
   "cell_type": "markdown",
   "source": [
    "## Q2. Decrease SSE\n",
    "try to decrease the SSE as much as possible(k=8), select two parameters which can impact the SSE most"
   ],
   "id": "b0b55926b490d770"
  },
  {
   "metadata": {
    "ExecuteTime": {
     "end_time": "2024-11-07T10:48:23.171160Z",
     "start_time": "2024-11-07T10:48:22.348187Z"
    }
   },
   "cell_type": "code",
   "source": [
    "# try: init-method, number of iterations, tolerance\n",
    "kmeans = KMeans(n_clusters=8, init='random', n_init=1000, max_iter=10000).fit(stock_change)\n",
    "sse = kmeans.inertia_\n",
    "print(sse)\n",
    "\n",
    "kmeans = KMeans(n_clusters=8, init='k-means++').fit(stock_change)\n",
    "sse = kmeans.inertia_\n",
    "print(sse)\n",
    "\n",
    "kmeans = KMeans(n_clusters=8, init='k-means++', n_init=1000, max_iter=10000, tol=1e-5).fit(stock_change)\n",
    "sse = kmeans.inertia_\n",
    "print(sse)"
   ],
   "id": "2c2fd21d92e7261d",
   "outputs": [
    {
     "name": "stdout",
     "output_type": "stream",
     "text": [
      "1579.822509765625\n",
      "1809.9132080078125\n",
      "1508.43408203125\n"
     ]
    }
   ],
   "execution_count": 267
  },
  {
   "metadata": {},
   "cell_type": "markdown",
   "source": "After several tests, the sse can be reduced to `1508.43` by changing init-method to k-means++, increasing iterations and lowering tolerance.",
   "id": "904b11fd141528c0"
  },
  {
   "metadata": {},
   "cell_type": "markdown",
   "source": "## Q3. Labels",
   "id": "e504ff1f5ecd5241"
  },
  {
   "metadata": {
    "ExecuteTime": {
     "end_time": "2024-11-07T10:48:59.675468Z",
     "start_time": "2024-11-07T10:48:59.669749Z"
    }
   },
   "cell_type": "code",
   "source": [
    "from collections import defaultdict\n",
    "labels = kmeans.labels_\n",
    "label_dict = defaultdict(list)\n",
    "# add stocks to relevant label\n",
    "for i in range(len(labels)):\n",
    "    label = int(labels[i])\n",
    "    label_dict[label].append(stock_name_list[i])\n",
    "# sort by key\n",
    "sorted_dict = dict(sorted(label_dict.items()))\n",
    "sorted_dict"
   ],
   "id": "67e155f578d238c",
   "outputs": [
    {
     "data": {
      "text/plain": [
       "{0: ['Bank of America'],\n",
       " 1: ['Chevron', 'Pfizer', 'ExxonMobil'],\n",
       " 2: ['Kraft',\n",
       "  'Verizon',\n",
       "  'Procter & Gamble',\n",
       "  'AT&T',\n",
       "  'Merck',\n",
       "  'McDonalds',\n",
       "  'Coca-Cola',\n",
       "  'Johnson & Johnson'],\n",
       " 3: ['American Express',\n",
       "  'Boeing',\n",
       "  'Microsoft',\n",
       "  'Walt Disney',\n",
       "  'JPMorgan Chase'],\n",
       " 4: ['Cisco Systems'],\n",
       " 5: ['Hewlett-Packard'],\n",
       " 6: ['DuPont', 'Caterpillar', 'Alcoa'],\n",
       " 7: ['IBM',\n",
       "  'The Home Depot',\n",
       "  'Intel',\n",
       "  'Wal-Mart',\n",
       "  'General Electric',\n",
       "  'United Technologies',\n",
       "  'Travelers',\n",
       "  '3M']}"
      ]
     },
     "execution_count": 268,
     "metadata": {},
     "output_type": "execute_result"
    }
   ],
   "execution_count": 268
  },
  {
   "metadata": {},
   "cell_type": "markdown",
   "source": [
    "### Label clusters\n",
    "\n",
    "* Cluster1: **Banking**\n",
    "  * Companies: Bank of America\n",
    "  * Explanation: The company provides banking and financial services, including retail banking, investment management, and wealth management services.\n",
    "* Cluster2: **Energy & Medicine**\n",
    "  * Companies: Chevron, Pfizer, ExxonMobil\n",
    "  * Explanation: Chevron and ExxonMobil provide energy like oil and gas, while Pfizer produces medicine.\n",
    "* Cluster3: **Consumer Products**\n",
    "  * Companies: American Express, Boeing, Microsoft, Walt Disney, Intel, United Technologies, 3M, Johnson & Johnson\n",
    "  * Explanation: Companies provide consumer products like food, drinks, telecommunications and medicine.\n",
    "* Cluster4: **Blue-chip**\n",
    "  * Companies: American Express, Boeing, Microsoft, Walt Disney, JPMorgan Chase\n",
    "  * Explanation: They can be divided in different industries, like finance, aerospace, technology and entertainment. But they are all big companies with reliable performance and growth, which can be classified as blue-chip companies. \n",
    "* Cluster5: **Communications**\n",
    "  * Companies: Cisco Systems\n",
    "  * Explanation: The company provides communication equipment and solutions.\n",
    "* Cluster6: **Computer**\n",
    "  * Companies: Hewlett-Packard\n",
    "  * Explanation: The company provides computer hardware like laptops and servers.\n",
    "* Cluster7: **Manufacture** \n",
    "  * Companies: DuPont, Caterpillar, Alcoa\n",
    "  * Explanation: Companies involve in industrial manufacturing(DuPont, Caterpillar) and raw materials(Alcoa).\n",
    "* Cluster8: **Technology and Retail**\n",
    "  * Companies: IBM, The Home Depot, Intel, Wal-Mart, General Electric, United Technologies, Travelers, 3M\n",
    "  * Explanation: IBM, Intel, General Electric, United Technologies and 3M can be considered as technology companies, and The Home Depot, Wal-Mart, Travelers can be considered as retail companies."
   ],
   "id": "4e5c65a169e38cd9"
  }
 ],
 "metadata": {
  "kernelspec": {
   "display_name": "Python 3",
   "language": "python",
   "name": "python3"
  },
  "language_info": {
   "codemirror_mode": {
    "name": "ipython",
    "version": 2
   },
   "file_extension": ".py",
   "mimetype": "text/x-python",
   "name": "python",
   "nbconvert_exporter": "python",
   "pygments_lexer": "ipython2",
   "version": "2.7.6"
  }
 },
 "nbformat": 4,
 "nbformat_minor": 5
}
