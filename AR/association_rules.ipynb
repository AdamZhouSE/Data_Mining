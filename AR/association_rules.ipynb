{
 "cells": [
  {
   "metadata": {},
   "cell_type": "markdown",
   "source": "# Finding Association Rules",
   "id": "fdeb042d1fb65c2d"
  },
  {
   "metadata": {},
   "cell_type": "markdown",
   "source": [
    "Q1:\n",
    "Report 3 rules with support at least 0.2 and confidence at least 0.9. Specify\n",
    "for each of them the support and the confidence."
   ],
   "id": "99d771f17520a2ed"
  },
  {
   "metadata": {
    "ExecuteTime": {
     "end_time": "2024-11-05T13:11:19.304843Z",
     "start_time": "2024-11-05T13:11:19.283583Z"
    }
   },
   "cell_type": "code",
   "source": [
    "import pandas as pd\n",
    "from mlxtend.preprocessing import TransactionEncoder\n",
    "from mlxtend.frequent_patterns import apriori, association_rules\n",
    "\n",
    "\n",
    "data_from_csv = pd.read_csv('mammographic_masses.csv')\n",
    "\n",
    "# # mapping values for nominal attributes\n",
    "# nominal_attributes = ['Shape', 'Margin', 'Severity']\n",
    "# shape_dict = {1: 'round', 2: 'oval', 3: 'lobular', 4: 'irregular', '?': 'Missing'}\n",
    "# margin_dict = {1: 'circumscribed', 2: 'microlobulated', 3: 'obscured', 4: 'ill-defined', 5: 'spiculated', '?': 'Missing'}\n",
    "# severity_dict = {0: 'benign', 1: 'malignant', '?': 'Missing'}\n",
    "# nominal_dicts = [shape_dict, margin_dict, severity_dict]\n",
    "# \n",
    "# def convert_value(col, value):\n",
    "#     \"\"\"if nominal, find the mapping value; if ordinal, assign the value directly\"\"\"\n",
    "#     if col not in nominal_attributes:\n",
    "#         return value\n",
    "#     attribute_dict = nominal_dicts[nominal_attributes.index(col)]\n",
    "#     if isinstance(value, str) and str.isdigit(value):\n",
    "#         value = int(value)\n",
    "#     return attribute_dict[value]\n",
    "\n",
    "# convert to \"attribute=value\"\n",
    "data = data_from_csv.apply(lambda row: [f\"{col}={val}\" for col, val in row.items()], axis=1).tolist()\n",
    "te = TransactionEncoder()\n",
    "# hot-pot encoding\n",
    "te_ary = te.fit(data).transform(data)\n",
    "df = pd.DataFrame(te_ary, columns=te.columns_)\n",
    "# computing frequent itemsets and association rules\n",
    "frequent_itemsets = apriori(df, min_support=0.2, use_colnames=True)\n",
    "rules = association_rules(frequent_itemsets, metric=\"confidence\", min_threshold=0.9)\n",
    "\n",
    "# visualizing association rules results\n",
    "rules[[\"antecedents\",\"consequents\",\"support\",\"confidence\"]]"
   ],
   "id": "bfbaf4f54f6751d4",
   "outputs": [
    {
     "data": {
      "text/plain": [
       "                          antecedents   consequents   support  confidence\n",
       "0                           (Shape=4)   (Density=3)  0.374610    0.900000\n",
       "1               (Margin=1, Density=3)   (BI-RADS=4)  0.263267    0.900356\n",
       "2              (Margin=1, Severity=0)   (BI-RADS=4)  0.299688    0.911392\n",
       "3               (Margin=1, BI-RADS=4)  (Severity=0)  0.299688    0.911392\n",
       "4                (Shape=4, BI-RADS=5)   (Density=3)  0.245578    0.904215\n",
       "5                (Shape=4, BI-RADS=5)  (Severity=1)  0.246618    0.908046\n",
       "6               (Severity=1, Shape=4)   (Density=3)  0.295525    0.901587\n",
       "7   (Margin=1, Severity=0, Density=3)   (BI-RADS=4)  0.238293    0.927126\n",
       "8    (Margin=1, Density=3, BI-RADS=4)  (Severity=0)  0.238293    0.905138\n",
       "9     (Shape=4, Density=3, BI-RADS=5)  (Severity=1)  0.224766    0.915254\n",
       "10   (Severity=1, Shape=4, BI-RADS=5)   (Density=3)  0.224766    0.911392"
      ],
      "text/html": [
       "<div>\n",
       "<style scoped>\n",
       "    .dataframe tbody tr th:only-of-type {\n",
       "        vertical-align: middle;\n",
       "    }\n",
       "\n",
       "    .dataframe tbody tr th {\n",
       "        vertical-align: top;\n",
       "    }\n",
       "\n",
       "    .dataframe thead th {\n",
       "        text-align: right;\n",
       "    }\n",
       "</style>\n",
       "<table border=\"1\" class=\"dataframe\">\n",
       "  <thead>\n",
       "    <tr style=\"text-align: right;\">\n",
       "      <th></th>\n",
       "      <th>antecedents</th>\n",
       "      <th>consequents</th>\n",
       "      <th>support</th>\n",
       "      <th>confidence</th>\n",
       "    </tr>\n",
       "  </thead>\n",
       "  <tbody>\n",
       "    <tr>\n",
       "      <th>0</th>\n",
       "      <td>(Shape=4)</td>\n",
       "      <td>(Density=3)</td>\n",
       "      <td>0.374610</td>\n",
       "      <td>0.900000</td>\n",
       "    </tr>\n",
       "    <tr>\n",
       "      <th>1</th>\n",
       "      <td>(Margin=1, Density=3)</td>\n",
       "      <td>(BI-RADS=4)</td>\n",
       "      <td>0.263267</td>\n",
       "      <td>0.900356</td>\n",
       "    </tr>\n",
       "    <tr>\n",
       "      <th>2</th>\n",
       "      <td>(Margin=1, Severity=0)</td>\n",
       "      <td>(BI-RADS=4)</td>\n",
       "      <td>0.299688</td>\n",
       "      <td>0.911392</td>\n",
       "    </tr>\n",
       "    <tr>\n",
       "      <th>3</th>\n",
       "      <td>(Margin=1, BI-RADS=4)</td>\n",
       "      <td>(Severity=0)</td>\n",
       "      <td>0.299688</td>\n",
       "      <td>0.911392</td>\n",
       "    </tr>\n",
       "    <tr>\n",
       "      <th>4</th>\n",
       "      <td>(Shape=4, BI-RADS=5)</td>\n",
       "      <td>(Density=3)</td>\n",
       "      <td>0.245578</td>\n",
       "      <td>0.904215</td>\n",
       "    </tr>\n",
       "    <tr>\n",
       "      <th>5</th>\n",
       "      <td>(Shape=4, BI-RADS=5)</td>\n",
       "      <td>(Severity=1)</td>\n",
       "      <td>0.246618</td>\n",
       "      <td>0.908046</td>\n",
       "    </tr>\n",
       "    <tr>\n",
       "      <th>6</th>\n",
       "      <td>(Severity=1, Shape=4)</td>\n",
       "      <td>(Density=3)</td>\n",
       "      <td>0.295525</td>\n",
       "      <td>0.901587</td>\n",
       "    </tr>\n",
       "    <tr>\n",
       "      <th>7</th>\n",
       "      <td>(Margin=1, Severity=0, Density=3)</td>\n",
       "      <td>(BI-RADS=4)</td>\n",
       "      <td>0.238293</td>\n",
       "      <td>0.927126</td>\n",
       "    </tr>\n",
       "    <tr>\n",
       "      <th>8</th>\n",
       "      <td>(Margin=1, Density=3, BI-RADS=4)</td>\n",
       "      <td>(Severity=0)</td>\n",
       "      <td>0.238293</td>\n",
       "      <td>0.905138</td>\n",
       "    </tr>\n",
       "    <tr>\n",
       "      <th>9</th>\n",
       "      <td>(Shape=4, Density=3, BI-RADS=5)</td>\n",
       "      <td>(Severity=1)</td>\n",
       "      <td>0.224766</td>\n",
       "      <td>0.915254</td>\n",
       "    </tr>\n",
       "    <tr>\n",
       "      <th>10</th>\n",
       "      <td>(Severity=1, Shape=4, BI-RADS=5)</td>\n",
       "      <td>(Density=3)</td>\n",
       "      <td>0.224766</td>\n",
       "      <td>0.911392</td>\n",
       "    </tr>\n",
       "  </tbody>\n",
       "</table>\n",
       "</div>"
      ]
     },
     "execution_count": 107,
     "metadata": {},
     "output_type": "execute_result"
    }
   ],
   "execution_count": 107
  },
  {
   "metadata": {},
   "cell_type": "markdown",
   "source": "Q2: determining some attributes and their values useful to find out whether a given instance is benign (severity =0) or malign (severity=1)",
   "id": "8919b445c92f7208"
  },
  {
   "metadata": {
    "ExecuteTime": {
     "end_time": "2024-11-05T13:11:19.322285Z",
     "start_time": "2024-11-05T13:11:19.306230Z"
    }
   },
   "cell_type": "code",
   "source": [
    "# exclude 'BI-RADS'\n",
    "data_exclude = data_from_csv[['Age', 'Shape', 'Margin', 'Density', 'Severity']]\n",
    "data = data_exclude.apply(lambda row: [f\"{col}={val}\" for col, val in row.items()], axis=1).tolist()\n",
    "te = TransactionEncoder()\n",
    "# hot-pot encoding\n",
    "te_ary = te.fit(data).transform(data)\n",
    "df = pd.DataFrame(te_ary, columns=te.columns_)\n",
    "# computing frequent itemsets and association rules\n",
    "frequent_itemsets = apriori(df, min_support=0.1, use_colnames=True)\n",
    "rules = association_rules(frequent_itemsets, metric=\"confidence\", min_threshold=0.9)\n",
    "# filter rules about severity\n",
    "severity_rules = rules[rules['consequents'].apply(lambda x: 'Severity=0' in x or 'Severity=1' in x)]\n",
    "severity_rules[[\"antecedents\",\"consequents\",\"support\",\"confidence\"]]"
   ],
   "id": "3c8d280b2f8bf3f1",
   "outputs": [
    {
     "data": {
      "text/plain": [
       "                      antecedents   consequents   support  confidence\n",
       "5             (Margin=1, Shape=2)  (Severity=0)  0.136316    0.903448\n",
       "6  (Margin=1, Shape=1, Density=3)  (Severity=0)  0.143600    0.901961"
      ],
      "text/html": [
       "<div>\n",
       "<style scoped>\n",
       "    .dataframe tbody tr th:only-of-type {\n",
       "        vertical-align: middle;\n",
       "    }\n",
       "\n",
       "    .dataframe tbody tr th {\n",
       "        vertical-align: top;\n",
       "    }\n",
       "\n",
       "    .dataframe thead th {\n",
       "        text-align: right;\n",
       "    }\n",
       "</style>\n",
       "<table border=\"1\" class=\"dataframe\">\n",
       "  <thead>\n",
       "    <tr style=\"text-align: right;\">\n",
       "      <th></th>\n",
       "      <th>antecedents</th>\n",
       "      <th>consequents</th>\n",
       "      <th>support</th>\n",
       "      <th>confidence</th>\n",
       "    </tr>\n",
       "  </thead>\n",
       "  <tbody>\n",
       "    <tr>\n",
       "      <th>5</th>\n",
       "      <td>(Margin=1, Shape=2)</td>\n",
       "      <td>(Severity=0)</td>\n",
       "      <td>0.136316</td>\n",
       "      <td>0.903448</td>\n",
       "    </tr>\n",
       "    <tr>\n",
       "      <th>6</th>\n",
       "      <td>(Margin=1, Shape=1, Density=3)</td>\n",
       "      <td>(Severity=0)</td>\n",
       "      <td>0.143600</td>\n",
       "      <td>0.901961</td>\n",
       "    </tr>\n",
       "  </tbody>\n",
       "</table>\n",
       "</div>"
      ]
     },
     "execution_count": 108,
     "metadata": {},
     "output_type": "execute_result"
    }
   ],
   "execution_count": 108
  },
  {
   "metadata": {},
   "cell_type": "markdown",
   "source": "Q3: As discussed above, the BI-RADS assessment is not always accurate ,and it might lead to unnecessary breast biopsy. Provide one or two rules that might give some evidence that the BI-RADS assessment is not always accurate. Explain your answer.",
   "id": "ddbaad53b6749bf7"
  },
  {
   "metadata": {
    "ExecuteTime": {
     "end_time": "2024-11-05T13:11:19.324391Z",
     "start_time": "2024-11-05T13:11:19.323111Z"
    }
   },
   "cell_type": "code",
   "source": "",
   "id": "b5c6b6f60e66eee7",
   "outputs": [],
   "execution_count": 108
  },
  {
   "metadata": {},
   "cell_type": "markdown",
   "source": [
    "## Q4: Age=35 $\\Rightarrow$ Severity=0\n",
    "Write a script in Python to find the confidence and support of the following rule: Age=35 ⇒ Severity=0. Report its support and\n",
    "confidence. Do you think this rule tells us something valuable or that we should ignore it as there is not enough evidence to support this rule?\n",
    "\n",
    "**Answer**\n",
    "TODO"
   ],
   "id": "4e69ae013089e355"
  },
  {
   "metadata": {
    "ExecuteTime": {
     "end_time": "2024-11-05T13:11:19.330366Z",
     "start_time": "2024-11-05T13:11:19.326312Z"
    }
   },
   "cell_type": "code",
   "source": [
    "df = data_from_csv\n",
    "total = len(df)\n",
    "# coerce: replace non-numeric values with NaN, '?' in this case\n",
    "df['Age'] = pd.to_numeric(df['Age'], errors='coerce')\n",
    "age_cnt = len(df[df['Age'] == 35])\n",
    "age_and_severity_cnt = len(df[(df['Age'] == 35) & (df['Severity'] == 0)])\n",
    "support = age_and_severity_cnt / total\n",
    "confidence = age_and_severity_cnt / age_cnt\n",
    "print('support:', support)\n",
    "print('confidence:', confidence)"
   ],
   "id": "71e36f1cf1a26d72",
   "outputs": [
    {
     "name": "stdout",
     "output_type": "stream",
     "text": [
      "support: 0.012486992715920915\n",
      "confidence: 0.9230769230769231\n"
     ]
    }
   ],
   "execution_count": 109
  },
  {
   "metadata": {},
   "cell_type": "markdown",
   "source": "## Q5",
   "id": "d85c09dab390c7"
  },
  {
   "metadata": {
    "ExecuteTime": {
     "end_time": "2024-11-05T13:11:19.350800Z",
     "start_time": "2024-11-05T13:11:19.331284Z"
    }
   },
   "cell_type": "code",
   "source": [
    "n = 50\n",
    "df = data_from_csv.copy(deep=True)\n",
    "df['Age'] = pd.to_numeric(df['Age'], errors='coerce')\n",
    "df['Age≥n'] = df['Age'].apply(lambda x: 1 if pd.notnull(x) and x >= n else 0)\n",
    "df = df.drop(columns=['Age'])\n",
    "data = df.apply(lambda row: [f\"{col}={val}\" for col, val in row.items()], axis=1).tolist()\n",
    "te_ary = te.fit(data).transform(data)\n",
    "df = pd.DataFrame(te_ary, columns=te.columns_)\n",
    "# computing frequent itemsets and association rules\n",
    "frequent_itemsets = apriori(df, min_support=0.1, use_colnames=True)\n",
    "rules = association_rules(frequent_itemsets, metric=\"confidence\", min_threshold=0.9)\n",
    "filtered_rules = rules[\n",
    "    (rules['consequents'].apply(lambda x: 'Severity=1' in x)) & \n",
    "    (rules['antecedents'].apply(lambda x: 'Age≥n=1' in x))\n",
    "]\n",
    "filtered_rules[['antecedents', 'consequents', 'support', 'confidence', 'lift']]"
   ],
   "id": "77e86e0d81dd89d6",
   "outputs": [
    {
     "data": {
      "text/plain": [
       "                                  antecedents   consequents   support  \\\n",
       "26            (Density=3, BI-RADS=5, Age≥n=1)  (Severity=1)  0.243496   \n",
       "28              (Shape=4, BI-RADS=5, Age≥n=1)  (Severity=1)  0.208117   \n",
       "50  (Margin=4, Density=3, BI-RADS=5, Age≥n=1)  (Severity=1)  0.103018   \n",
       "52   (Shape=4, Density=3, BI-RADS=5, Age≥n=1)  (Severity=1)  0.192508   \n",
       "\n",
       "    confidence      lift  \n",
       "26    0.914062  1.973964  \n",
       "28    0.921659  1.990369  \n",
       "50    0.916667  1.979588  \n",
       "52    0.929648  2.007622  "
      ],
      "text/html": [
       "<div>\n",
       "<style scoped>\n",
       "    .dataframe tbody tr th:only-of-type {\n",
       "        vertical-align: middle;\n",
       "    }\n",
       "\n",
       "    .dataframe tbody tr th {\n",
       "        vertical-align: top;\n",
       "    }\n",
       "\n",
       "    .dataframe thead th {\n",
       "        text-align: right;\n",
       "    }\n",
       "</style>\n",
       "<table border=\"1\" class=\"dataframe\">\n",
       "  <thead>\n",
       "    <tr style=\"text-align: right;\">\n",
       "      <th></th>\n",
       "      <th>antecedents</th>\n",
       "      <th>consequents</th>\n",
       "      <th>support</th>\n",
       "      <th>confidence</th>\n",
       "      <th>lift</th>\n",
       "    </tr>\n",
       "  </thead>\n",
       "  <tbody>\n",
       "    <tr>\n",
       "      <th>26</th>\n",
       "      <td>(Density=3, BI-RADS=5, Age≥n=1)</td>\n",
       "      <td>(Severity=1)</td>\n",
       "      <td>0.243496</td>\n",
       "      <td>0.914062</td>\n",
       "      <td>1.973964</td>\n",
       "    </tr>\n",
       "    <tr>\n",
       "      <th>28</th>\n",
       "      <td>(Shape=4, BI-RADS=5, Age≥n=1)</td>\n",
       "      <td>(Severity=1)</td>\n",
       "      <td>0.208117</td>\n",
       "      <td>0.921659</td>\n",
       "      <td>1.990369</td>\n",
       "    </tr>\n",
       "    <tr>\n",
       "      <th>50</th>\n",
       "      <td>(Margin=4, Density=3, BI-RADS=5, Age≥n=1)</td>\n",
       "      <td>(Severity=1)</td>\n",
       "      <td>0.103018</td>\n",
       "      <td>0.916667</td>\n",
       "      <td>1.979588</td>\n",
       "    </tr>\n",
       "    <tr>\n",
       "      <th>52</th>\n",
       "      <td>(Shape=4, Density=3, BI-RADS=5, Age≥n=1)</td>\n",
       "      <td>(Severity=1)</td>\n",
       "      <td>0.192508</td>\n",
       "      <td>0.929648</td>\n",
       "      <td>2.007622</td>\n",
       "    </tr>\n",
       "  </tbody>\n",
       "</table>\n",
       "</div>"
      ]
     },
     "execution_count": 110,
     "metadata": {},
     "output_type": "execute_result"
    }
   ],
   "execution_count": 110
  },
  {
   "metadata": {
    "ExecuteTime": {
     "end_time": "2024-11-05T13:11:19.353400Z",
     "start_time": "2024-11-05T13:11:19.351802Z"
    }
   },
   "cell_type": "code",
   "source": "",
   "id": "76657273b0241202",
   "outputs": [],
   "execution_count": 110
  }
 ],
 "metadata": {
  "kernelspec": {
   "display_name": "Python 3",
   "language": "python",
   "name": "python3"
  },
  "language_info": {
   "codemirror_mode": {
    "name": "ipython",
    "version": 2
   },
   "file_extension": ".py",
   "mimetype": "text/x-python",
   "name": "python",
   "nbconvert_exporter": "python",
   "pygments_lexer": "ipython2",
   "version": "2.7.6"
  }
 },
 "nbformat": 4,
 "nbformat_minor": 5
}
